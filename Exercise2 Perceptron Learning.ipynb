{
 "cells": [
  {
   "cell_type": "markdown",
   "metadata": {},
   "source": [
    "# Exercise 1 Perceptron Learning"
   ]
  },
  {
   "cell_type": "markdown",
   "metadata": {},
   "source": [
    "Task1\n",
    "\n",
    "1.Generate two separable normal distributed datasets in 2D\n",
    "\n",
    "2.Label one dataset with -1and one with +1\n",
    "\n",
    "3.Shuffle both datasets together\n",
    "\n",
    "4.Implement the perceptron with numpymatrices\n",
    "\n",
    "5.Initialize perceptron weights randomly\n",
    "\n",
    "6.Define an appropriate stopping criterion\n",
    "\n",
    "7.Apply perceptron learning rule to the data\n",
    "\n",
    "8.Plot the samples and the learned decision boundary together"
   ]
  },
  {
   "cell_type": "code",
   "execution_count": 17,
   "metadata": {},
   "outputs": [],
   "source": [
    "import numpy as np\n",
    "import scipy\n",
    "from matplotlib import pyplot\n",
    "import random"
   ]
  },
  {
   "cell_type": "markdown",
   "metadata": {},
   "source": [
    "1.Generate two separable normal distributed datasets in 2D"
   ]
  },
  {
   "cell_type": "code",
   "execution_count": 45,
   "metadata": {},
   "outputs": [],
   "source": [
    "#create training data: assume x_0 = 1 in any case\n",
    "#parametera are: mean per dimension, std per dimension,size\n",
    "\n",
    "data1 = np.random.normal((1,-5,3),(0,2,2),(100,3))\n",
    "#mean is (1,-5,3),std is (0,2,2),size is 100X3\n",
    "\n",
    "data2 = np.random.normal((1,3,-5),(0,2,2),(100,3))\n",
    "#mean is (1,-5,3),std is (0,2,2),size is 100X3"
   ]
  },
  {
   "cell_type": "markdown",
   "metadata": {},
   "source": [
    "2.Label one dataset with -1and one with +1"
   ]
  },
  {
   "cell_type": "code",
   "execution_count": 46,
   "metadata": {},
   "outputs": [
    {
     "name": "stdout",
     "output_type": "stream",
     "text": [
      "[(array([ 1.        , -7.12912139,  2.55734103]), -1), (array([ 1.        , -5.81959724,  1.12827438]), -1), (array([ 1.        , -3.44160774,  1.15364315]), -1), (array([ 1.        , -2.93802543,  4.01288208]), -1)]\n"
     ]
    }
   ],
   "source": [
    "#collect in one list\n",
    "samples = [(sample,-1) for sample in data1] + [(sample,1) for sample in data2]\n",
    "print(samples[1:5])"
   ]
  },
  {
   "cell_type": "markdown",
   "metadata": {},
   "source": [
    "3.Shuffle both datasets together"
   ]
  },
  {
   "cell_type": "code",
   "execution_count": 47,
   "metadata": {},
   "outputs": [],
   "source": [
    "#random shuffle list\n",
    "random.shuffle(samples)#随机排序"
   ]
  },
  {
   "cell_type": "markdown",
   "metadata": {},
   "source": [
    "4.Implement the perceptron with numpymatrices\n",
    "\n",
    "5.Initialize perceptron weights randomly\n",
    "\n",
    "6.Define an appropriate stopping criterion\n",
    "\n",
    "7.Apply perceptron learning rule to the data"
   ]
  },
  {
   "cell_type": "code",
   "execution_count": 48,
   "metadata": {},
   "outputs": [],
   "source": [
    "weights = np.random.normal(size = 3)"
   ]
  },
  {
   "cell_type": "code",
   "execution_count": 49,
   "metadata": {},
   "outputs": [],
   "source": [
    "#stopping criterion: iterate until all samples are classified correctly\n",
    "# count number of incorrectly classified samples\n",
    "incorrect = len(samples)\n",
    "while incorrect > 0:\n",
    "    \n",
    "    #iterate over all samples\n",
    "    incorrect = 0\n",
    "    for x, t in samples:#自动分辨x,t\n",
    "        #predict class\n",
    "        if np.dot(weights,x) * t < 0: #if wx * t < 0, w_new = w + tx\n",
    "            incorrect += 1\n",
    "            weights += t * x"
   ]
  },
  {
   "cell_type": "markdown",
   "metadata": {},
   "source": [
    "8.Plot the samples and the learned decision boundary together"
   ]
  },
  {
   "cell_type": "code",
   "execution_count": 50,
   "metadata": {},
   "outputs": [
    {
     "data": {
      "text/plain": [
       "[<matplotlib.lines.Line2D at 0x23f1f7589a0>]"
      ]
     },
     "execution_count": 50,
     "metadata": {},
     "output_type": "execute_result"
    },
    {
     "data": {
      "image/png": "[encoded data removed]",
      "text/plain": [
       "<Figure size 432x432 with 1 Axes>"
      ]
     },
     "metadata": {
      "needs_background": "light"
     },
     "output_type": "display_data"
    }
   ],
   "source": [
    "#create figure in square shape\n",
    "pyplot.figure(figsize = (6,6))\n",
    "#plot points\n",
    "pyplot.plot(data1[:,1],data1[:,2],\"rx\")#x1,x2 of group1\n",
    "pyplot.plot(data2[:,1],data2[:,2],\"bx\")#x1,x2 of group2\n",
    "\n",
    "#compute intersection from plane with z = 0\n",
    "x_1 = np.arange(-10.0,10.0,0.1)\n",
    "#weights[0] + weights[1]*x_1 + weights[2]*x_2 = 0\n",
    "x_2 = (-weights[0]-weights[1]*x_1)/weights[2]\n",
    "#plot line\n",
    "pyplot.plot(x_1,x_2,\"g-\")\n",
    "\n",
    "#finalize plot\n",
    "pyplot.xlim((-10,10))\n",
    "pyplot.ylim((-10,10))\n",
    "pyplot.xlabel(\"$x_1$\")\n",
    "pyplot.ylabel(\"$x_2$\")\n",
    "\n",
    "#write to file \n",
    "pyplot.savefig(\"Perceptron.pdf\")"
   ]
  },
  {
   "cell_type": "code",
   "execution_count": null,
   "metadata": {},
   "outputs": [],
   "source": []
  },
  {
   "cell_type": "code",
   "execution_count": null,
   "metadata": {},
   "outputs": [],
   "source": []
  }
 ],
 "metadata": {
  "kernelspec": {
   "display_name": "Python 3",
   "language": "python",
   "name": "python3"
  },
  "language_info": {
   "codemirror_mode": {
    "name": "ipython",
    "version": 3
   },
   "file_extension": ".py",
   "mimetype": "text/x-python",
   "name": "python",
   "nbconvert_exporter": "python",
   "pygments_lexer": "ipython3",
   "version": "3.8.3"
  }
 },
 "nbformat": 4,
 "nbformat_minor": 4
}
